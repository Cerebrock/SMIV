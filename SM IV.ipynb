{
 "cells": [
  {
   "cell_type": "markdown",
   "metadata": {},
   "source": [
    "### Imports"
   ]
  },
  {
   "cell_type": "code",
   "execution_count": 1,
   "metadata": {},
   "outputs": [],
   "source": [
    "import pandas as pd\n",
    "import numpy as np\n",
    "\n",
    "\n",
    "import re\n",
    "import time\n",
    "import json\n",
    "import requests as rq\n",
    "import unidecode\n",
    "\n",
    "from scipy.stats import spearmanr, pearsonr\n",
    "\n",
    "pd.options.display.max_columns = 200\n",
    "pd.options.display.max_seq_items = 500"
   ]
  },
  {
   "cell_type": "code",
   "execution_count": 2,
   "metadata": {},
   "outputs": [
    {
     "ename": "ModuleNotFoundError",
     "evalue": "No module named 'plotly'",
     "output_type": "error",
     "traceback": [
      "\u001b[1;31m---------------------------------------------------------------------------\u001b[0m",
      "\u001b[1;31mModuleNotFoundError\u001b[0m                       Traceback (most recent call last)",
      "\u001b[1;32m<ipython-input-2-9c1b9016dcff>\u001b[0m in \u001b[0;36m<module>\u001b[1;34m()\u001b[0m\n\u001b[0;32m      6\u001b[0m \u001b[0msns\u001b[0m\u001b[1;33m.\u001b[0m\u001b[0mset\u001b[0m\u001b[1;33m(\u001b[0m\u001b[0mfont_scale\u001b[0m\u001b[1;33m=\u001b[0m\u001b[1;36m1.4\u001b[0m\u001b[1;33m)\u001b[0m\u001b[1;33m\u001b[0m\u001b[0m\n\u001b[0;32m      7\u001b[0m \u001b[1;33m\u001b[0m\u001b[0m\n\u001b[1;32m----> 8\u001b[1;33m \u001b[1;32mimport\u001b[0m \u001b[0mplotly\u001b[0m\u001b[1;33m.\u001b[0m\u001b[0moffline\u001b[0m \u001b[1;32mas\u001b[0m \u001b[0moffline\u001b[0m\u001b[1;33m\u001b[0m\u001b[0m\n\u001b[0m\u001b[0;32m      9\u001b[0m \u001b[1;32mimport\u001b[0m \u001b[0mplotly\u001b[0m\u001b[1;33m.\u001b[0m\u001b[0mplotly\u001b[0m \u001b[1;32mas\u001b[0m \u001b[0mpy\u001b[0m\u001b[1;33m\u001b[0m\u001b[0m\n\u001b[0;32m     10\u001b[0m \u001b[1;32mimport\u001b[0m \u001b[0mplotly\u001b[0m\u001b[1;33m.\u001b[0m\u001b[0mgraph_objs\u001b[0m \u001b[1;32mas\u001b[0m \u001b[0mgo\u001b[0m\u001b[1;33m\u001b[0m\u001b[0m\n",
      "\u001b[1;31mModuleNotFoundError\u001b[0m: No module named 'plotly'"
     ]
    }
   ],
   "source": [
    "import matplotlib.pyplot as plt\n",
    "%matplotlib inline\n",
    "\n",
    "import seaborn as sns\n",
    "sns.set_style('darkgrid')\n",
    "sns.set(font_scale=1.4)\n",
    "\n",
    "import plotly.offline as offline\n",
    "import plotly.plotly as py\n",
    "import plotly.graph_objs as go\n",
    "\n",
    "offline.init_notebook_mode()"
   ]
  },
  {
   "cell_type": "markdown",
   "metadata": {},
   "source": [
    "### Google API para lat y lon de aglomerados"
   ]
  },
  {
   "cell_type": "code",
   "execution_count": null,
   "metadata": {},
   "outputs": [],
   "source": [
    "def geodecode(local):\n",
    "    url = 'https://maps.googleapis.com/maps/api/geocode/json?address='\n",
    "    headers = {'User-Agent': 'Mozilla/5.0 (Linux; Android 6.0; Nexus 5 Build/MRA58N) AppleWebKit/537.36 (KHTML, like Gecko) Chrome/68.0.3440.106 Mobile Safari/537.36'}\n",
    "    q = local.replace(' ', '%20')\n",
    "    print(url+q)\n",
    "    c = rq.get(url+q, headers = headers).content\n",
    "    data = json.loads(c)\n",
    "    x, y = data['results'][0]['geometry']['location'].items()\n",
    "    return (x[1], y[1]) if 'lat' in x else (y[1], x[1])"
   ]
  },
  {
   "cell_type": "code",
   "execution_count": null,
   "metadata": {},
   "outputs": [],
   "source": [
    "s = unidecode.unidecode(\"\"\" 02 = Gran La Plata\n",
    " 03 = Bahía Blanca - Cerri\n",
    " 04 = Gran Rosario\n",
    " 05 = Gran Santa Fé\n",
    " 06 = Gran Paraná\n",
    " 07 = Posadas\n",
    " 08 = Gran Resistencia\n",
    " 09 = Cdro. Rivadavia - R.Tilly\n",
    " 10 = Gran Mendoza\n",
    " 12 = Corrientes\n",
    " 13 = Gran Córdoba\n",
    " 14 = Concordia\n",
    " 15 = Formosa\n",
    " 17 = Neuquén – Plottier\n",
    " 18 = S.del Estero - La Banda\n",
    " 19 = Jujuy - Palpalá\n",
    " 20 = Río Gallegos\n",
    " 22 = Gran Catamarca\n",
    " 23 = Salta\n",
    " 25 = La Rioja\n",
    " 26 = San Luis - El Chorrillo\n",
    " 27 = Gran San Juan\n",
    " 29 = Gran Tucumán - T. Viejo\n",
    " 30 = Santa Rosa - Toay\n",
    " 31 = Ushuaia - Río Grande\n",
    " 32 = Ciudad de Bs As\n",
    " 33 = Partidos del GBA\n",
    " 34 = Mar del Plata - Batán\n",
    " 36 = Río Cuarto\n",
    " 38 = San Nicolás – Villa Constitución\n",
    " 91 = Rawson – Trelew\n",
    " 93 = Viedma – Carmen de Patagones\n",
    " \"\"\")"
   ]
  },
  {
   "cell_type": "code",
   "execution_count": null,
   "metadata": {},
   "outputs": [],
   "source": [
    "aglomerados = {k:[c] for c, k in re.findall('(\\d+)\\s=\\s([\\w\\s/./-]+?)\\n', s, flags=re.IGNORECASE)}"
   ]
  },
  {
   "cell_type": "code",
   "execution_count": null,
   "metadata": {},
   "outputs": [],
   "source": [
    "# cambio entre 'arg' y 'argentina' por obstaculo de google \n",
    "coords = 0\n",
    "while coords < len(aglomerados):\n",
    "    offset = ' argentina'\n",
    "    for t in aglomerados.keys():\n",
    "        if len(aglomerados[t]) == 1:\n",
    "            try:\n",
    "                aglomerados[t].extend(geodecode(t + offset))\n",
    "                coords += 1\n",
    "                print(t, 'ok')\n",
    "            except:\n",
    "                print('err', t)\n",
    "                offset = ' arg'\n",
    "            time.sleep(2)"
   ]
  },
  {
   "cell_type": "code",
   "execution_count": null,
   "metadata": {},
   "outputs": [],
   "source": [
    "coords_df = pd.DataFrame.from_dict(aglomerados, orient='index')\n",
    "coords_df.columns = 'cod, lat, lon'.split(', ')\n",
    "coords_df['cod'] = coords_df['cod'].apply(pd.to_numeric)"
   ]
  },
  {
   "cell_type": "code",
   "execution_count": null,
   "metadata": {},
   "outputs": [],
   "source": [
    "coords_df.to_json('coord_df.json')"
   ]
  },
  {
   "cell_type": "markdown",
   "metadata": {},
   "source": [
    "## EPH"
   ]
  },
  {
   "cell_type": "code",
   "execution_count": null,
   "metadata": {},
   "outputs": [],
   "source": [
    "coords_df = pd.read_json('coord_df.json')"
   ]
  },
  {
   "cell_type": "code",
   "execution_count": null,
   "metadata": {},
   "outputs": [],
   "source": [
    "fname = r'C:\\Users\\mgrinberg\\Downloads\\EPH_usu_1_Trim_2018_txt\\usu_individual_t118.txt'\n",
    "df = pd.read_table(fname, sep = ';')"
   ]
  },
  {
   "cell_type": "code",
   "execution_count": null,
   "metadata": {},
   "outputs": [],
   "source": [
    "df = df.replace('', np.nan)"
   ]
  },
  {
   "cell_type": "raw",
   "metadata": {},
   "source": [
    "%%time\n",
    "df = df.apply(pd.to_numeric, args=dict(errors='ignore'))"
   ]
  },
  {
   "cell_type": "raw",
   "metadata": {},
   "source": [
    "df = df.fillna(df.mean())"
   ]
  },
  {
   "cell_type": "code",
   "execution_count": null,
   "metadata": {},
   "outputs": [],
   "source": [
    "df.sample(10)"
   ]
  },
  {
   "cell_type": "code",
   "execution_count": null,
   "metadata": {},
   "outputs": [],
   "source": [
    "edu = 'NIVEL_ED'\n",
    "edad = 'CH06'\n",
    "parentesco = 'CH03'\n",
    "analf = 'CH09'\n",
    "busco_trab = 'PP10A'"
   ]
  },
  {
   "cell_type": "code",
   "execution_count": null,
   "metadata": {},
   "outputs": [],
   "source": [
    "df = df[(df[edad] >= 18) & (df[edad] <= 40)]"
   ]
  },
  {
   "cell_type": "code",
   "execution_count": null,
   "metadata": {},
   "outputs": [],
   "source": [
    "# El promedio de edad por aglo es similar. \n",
    "edu_aglo = df[df[edu] <= 3].groupby('AGLOMERADO').count()[edu] / df.groupby('AGLOMERADO').count()[edu]\n",
    "coords_df = coords_df.join(edu_aglo, on='cod')"
   ]
  },
  {
   "cell_type": "code",
   "execution_count": null,
   "metadata": {},
   "outputs": [],
   "source": [
    "analf_aglo = df[df[analf] == 2].groupby('AGLOMERADO').count()[analf] / df.groupby('AGLOMERADO').count()[analf]\n",
    "coords_df = coords_df.join(analf_aglo, on='cod')"
   ]
  },
  {
   "cell_type": "code",
   "execution_count": null,
   "metadata": {
    "scrolled": true
   },
   "outputs": [],
   "source": [
    "sns.distplot(tuple(analf_aglo), bins=8);"
   ]
  },
  {
   "cell_type": "code",
   "execution_count": null,
   "metadata": {},
   "outputs": [],
   "source": [
    "# tamaño de muestra por aglomerado\n",
    "sns.distplot(df.groupby('AGLOMERADO').count().iloc[:,0]\n",
    "            .sort_values(), 8)"
   ]
  },
  {
   "cell_type": "code",
   "execution_count": null,
   "metadata": {},
   "outputs": [],
   "source": [
    "# porcentaje desempleo\n",
    "desempl_aglo = df[~df[busco_trab].isnull()].groupby('AGLOMERADO').count().iloc[:,0]/df.groupby('AGLOMERADO').count().iloc[:,0]\n",
    "coords_df = coords_df.join(desempl_aglo.rename(busco_trab), on='cod')"
   ]
  },
  {
   "cell_type": "code",
   "execution_count": null,
   "metadata": {},
   "outputs": [],
   "source": [
    "x, y, z = 'Desempleo', 'Analfabetismo', 'Secundaria Incompleta'\n",
    "coords_df = coords_df.rename({busco_trab:x, analf:y, edu:z}, axis=1)\n",
    "df = df.rename({busco_trab:x, analf:y, edu:z}, axis=1)"
   ]
  },
  {
   "cell_type": "code",
   "execution_count": null,
   "metadata": {
    "scrolled": false
   },
   "outputs": [],
   "source": [
    "fig, ax = plt.subplots(1,3,figsize=(13,8), sharey=True)\n",
    "\n",
    "coords_df.sort_values(x, inplace=True)\n",
    "sns.barplot(coords_df[x], coords_df.index, palette='copper_r', ax=ax[0])\n",
    "ax[0].set_xlabel(x, fontsize=14)\n",
    "ax[0].set_yticklabels(ax[0].get_yticklabels());\n",
    "\n",
    "sns.barplot(coords_df[y], coords_df.index, palette='copper_r', ax=ax[1])\n",
    "ax[1].set_xlabel(y, fontsize=14)\n",
    "\n",
    "sns.barplot(coords_df[z], coords_df.index, palette='copper_r', ax=ax[2])\n",
    "ax[2].set_xlabel('% Secundario incompleto'.format(z), fontsize=14, rotation=0)\n",
    "\n",
    "plt.setp(ax[0].xaxis.get_majorticklabels(), rotation=45, fontsize=12)\n",
    "plt.setp(ax[1].xaxis.get_majorticklabels(), rotation=45, fontsize=12)\n",
    "plt.setp(ax[2].xaxis.get_majorticklabels(), rotation=45, fontsize=12)\n",
    "plt.tight_layout(pad=0)"
   ]
  },
  {
   "cell_type": "code",
   "execution_count": null,
   "metadata": {
    "scrolled": true
   },
   "outputs": [],
   "source": [
    "coords_df.sample(5)"
   ]
  },
  {
   "cell_type": "code",
   "execution_count": null,
   "metadata": {},
   "outputs": [],
   "source": [
    "cols = [x, y, z, parentesco, edad]\n",
    "\n",
    "X = df[cols].dropna()\n",
    "\n",
    "corrs, ps = spearmanr(X.values)\n",
    "\n",
    "fig, ax = plt.subplots(1,2,figsize=(17,6))\n",
    "\n",
    "sns.heatmap(corrs, cmap='Blues', ax=ax[0], cbar=False, annot=True, linewidths=1, annot_kws={\"size\": 20})\n",
    "ax[0].set_title('Tamaño de efecto, r Spearman')\n",
    "ax[0].set_yticklabels(cols, rotation=30)\n",
    "ax[0].set_xticklabels(cols, rotation=30)\n",
    "\n",
    "sns.heatmap(ps, cmap='Blues_r', ax=ax[1], annot=True, linewidths=1, annot_kws={\"size\": 20});\n",
    "ax[1].set_title('P-Valor');\n",
    "ax[1].set_yticklabels([])\n",
    "ax[1].set_xticklabels(cols, rotation=30)\n",
    "plt.tight_layout()"
   ]
  },
  {
   "cell_type": "code",
   "execution_count": null,
   "metadata": {},
   "outputs": [],
   "source": [
    "def corrcoef_loop(matrix):\n",
    "    rows, cols = matrix.shape[0], matrix.shape[1]\n",
    "    r = np.ones(shape=(rows, rows))\n",
    "    p = np.ones(shape=(rows, rows))\n",
    "    for i in range(rows):\n",
    "        for j in range(i+1, rows):\n",
    "            r_, p_ = pearsonr(matrix[i], matrix[j])\n",
    "            r[i, j] = r[j, i] = r_\n",
    "            p[i, j] = p[j, i] = p_\n",
    "    return r, p"
   ]
  },
  {
   "cell_type": "code",
   "execution_count": null,
   "metadata": {},
   "outputs": [],
   "source": [
    "corrs, ps = corrcoef_loop(X.T.values)"
   ]
  },
  {
   "cell_type": "code",
   "execution_count": null,
   "metadata": {},
   "outputs": [],
   "source": [
    "fig, ax = plt.subplots(1,2,figsize=(17,6))\n",
    "\n",
    "sns.heatmap(corrs, cmap='Purples', ax=ax[0], cbar=False, annot=True, linewidths=1, annot_kws={\"size\": 20})\n",
    "ax[0].set_title('Tamaño de efecto, p Pearson')\n",
    "ax[0].set_yticklabels(cols, rotation=30)\n",
    "ax[0].set_xticklabels(cols, rotation=30)\n",
    "\n",
    "sns.heatmap(ps, cmap='Purples_r', ax=ax[1], annot=True, linewidths=1, annot_kws={\"size\": 20});\n",
    "ax[1].set_title('P-Valor');\n",
    "ax[1].set_yticklabels([])\n",
    "ax[1].set_xticklabels(cols, rotation=30)\n",
    "plt.tight_layout()"
   ]
  },
  {
   "cell_type": "code",
   "execution_count": null,
   "metadata": {
    "scrolled": false
   },
   "outputs": [],
   "source": [
    "lat = -40\n",
    "lon= -66\n",
    "api_k='pk.eyJ1IjoiY2hyaWRkeXAiLCJhIjoiY2lxMnVvdm5iMDA4dnhsbTQ5aHJzcGs0MyJ9.X9o_rzNLNesDxdra4neC_A'\n",
    "\n",
    "data = [go.Scattermapbox(\n",
    "        lat = coords_df['lat'],\n",
    "        lon= coords_df['lon'],\n",
    "        mode='markers',\n",
    "        name=x,\n",
    "        marker=dict(sizemin=6,\n",
    "            size= coords_df[x]*500,\n",
    "            color= coords_df[x],\n",
    "            colorscale='Blues',\n",
    "            opacity=0.8,\n",
    "            showscale=True,\n",
    "            reversescale=True,\n",
    "            colorbar=dict(  title=x, \n",
    "                          x=1, \n",
    "                          xpad=15,\n",
    "                          titleside='right',\n",
    "                          tickmode='auto',\n",
    "                          tickangle=20,\n",
    "                          ),\n",
    "        ),\n",
    "        text= coords_df.index.values + \n",
    "            '<br> {}: %'.format(x) + coords_df[x].apply(lambda x: x*100).apply('{0:.3f}'.format).astype(str),\n",
    "        \n",
    "        hoverinfo= 'text'),\n",
    "    \n",
    "    go.Scattermapbox(\n",
    "        lat = coords_df['lat'],\n",
    "        lon= coords_df['lon'],\n",
    "        mode='markers',\n",
    "        name = y,\n",
    "        marker=dict(sizemin=6,\n",
    "            size= coords_df[y]*2000,\n",
    "            color= coords_df[y],\n",
    "            colorscale=[[0, 'rgb(255,200,200)'], [0.5, 'rgb(255,100,100)'],\n",
    "                       [1, 'rgb(150,0,0)']],\n",
    "            reversescale=False,\n",
    "            opacity=0.6,\n",
    "            showscale=True,\n",
    "            colorbar=dict(title=y,\n",
    "                          titleside='right',\n",
    "                          x=1, \n",
    "                          xpad=110,\n",
    "                          tickmode='auto', \n",
    "                          tickangle=20),\n",
    "        ),\n",
    "        text= coords_df.index.values + \n",
    "            '<br> {}: %'.format(y) + coords_df[y].apply(lambda x: x*100).apply('{0:.3f}'.format).astype(str),\n",
    "        \n",
    "        hoverinfo= 'text'\n",
    "    ),\n",
    "    go.Scattermapbox(\n",
    "        lat = coords_df['lat'],\n",
    "        lon= coords_df['lon'],\n",
    "        mode='markers',\n",
    "        name = z,\n",
    "        marker=dict(sizemin=6,\n",
    "                    symbol='circle',\n",
    "            size= coords_df[z]*100,\n",
    "            color= coords_df[z],\n",
    "            colorscale=[[0, 'rgb(210,235,215)'], [0.5, 'rgb(10,180,60)'],\n",
    "                       [1, 'rgb(50,120,50)']],\n",
    "            reversescale=False,\n",
    "            opacity=0.6,\n",
    "            showscale=True,\n",
    "            colorbar=dict(title=z,\n",
    "                          titleside='right',\n",
    "                          x=1, \n",
    "                          xpad=208,\n",
    "                          tickmode='auto', \n",
    "                          tickangle=20),\n",
    "        ),\n",
    "        text= coords_df.index.values + \n",
    "            '<br> {}: %'.format(z) + coords_df[z].apply(lambda x: x*100).apply('{0:.3f}'.format).astype(str),\n",
    "        \n",
    "        hoverinfo= 'text'\n",
    "    )]\n",
    "\n",
    "layout = go.Layout(\n",
    "    title = 'Indicadores relacionados con el mercado laboral en Argentina',\n",
    "    autosize=True,\n",
    "    hovermode='closest',\n",
    "    height=800,\n",
    "    legend=dict(x=-.25, y=1),\n",
    "    mapbox=dict(accesstoken=api_k,\n",
    "        bearing=0,\n",
    "        center=dict(\n",
    "            lat=lat,\n",
    "            lon=lon\n",
    "        ),\n",
    "        pitch=0,\n",
    "        zoom=3.2,\n",
    "        style='satellite-streets'\n",
    "    ),\n",
    ")\n",
    "\n",
    "fig = dict( data=data, layout=layout )\n",
    "offline.iplot(fig, filename='d3-cloropleth-map' )"
   ]
  },
  {
   "cell_type": "code",
   "execution_count": null,
   "metadata": {},
   "outputs": [],
   "source": []
  }
 ],
 "metadata": {
  "kernelspec": {
   "display_name": "Python 3",
   "language": "python",
   "name": "python3"
  },
  "language_info": {
   "codemirror_mode": {
    "name": "ipython",
    "version": 3
   },
   "file_extension": ".py",
   "mimetype": "text/x-python",
   "name": "python",
   "nbconvert_exporter": "python",
   "pygments_lexer": "ipython3",
   "version": "3.6.5"
  }
 },
 "nbformat": 4,
 "nbformat_minor": 2
}
